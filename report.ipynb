{
 "cells": [
  {
   "cell_type": "code",
   "execution_count": 28,
   "metadata": {},
   "outputs": [
    {
     "data": {
      "text/html": [
       "<table border=\"1\" class=\"dataframe\">\n",
       "  <thead>\n",
       "    <tr style=\"text-align: right;\">\n",
       "      <th>Model</th>\n",
       "      <th>Environment</th>\n",
       "      <th>Episodes</th>\n",
       "      <th>Average Episode Time</th>\n",
       "      <th>Reward Strategy</th>\n",
       "      <th>Average Reward</th>\n",
       "      <th>Reward Variance</th>\n",
       "      <th>Best Episode Reward</th>\n",
       "      <th>Results Folder</th>\n",
       "    </tr>\n",
       "  </thead>\n",
       "  <tbody>\n",
       "    <tr>\n",
       "      <td>DDPG</td>\n",
       "      <td>LunarLanderContinuous-v3</td>\n",
       "      <td>10</td>\n",
       "      <td>1.07</td>\n",
       "      <td>default</td>\n",
       "      <td>-470.191878</td>\n",
       "      <td>27821.452307</td>\n",
       "      <td>-98.352561</td>\n",
       "      <td>results/ddpg-20241124-185414</td>\n",
       "    </tr>\n",
       "  </tbody>\n",
       "</table>"
      ],
      "text/plain": [
       "<IPython.core.display.HTML object>"
      ]
     },
     "metadata": {},
     "output_type": "display_data"
    }
   ],
   "source": [
    "import os\n",
    "import json\n",
    "import pandas as pd\n",
    "from IPython.display import display, HTML\n",
    "\n",
    "\n",
    "def load_results(results_dir=\"results\"):\n",
    "  \"\"\"\n",
    "  Load results from all subdirectories in the specified results directory.\n",
    "  \"\"\"\n",
    "  data = []\n",
    "  for folder in os.listdir(results_dir):\n",
    "    folder_path = os.path.join(results_dir, folder)\n",
    "    if os.path.isdir(folder_path):\n",
    "      try:\n",
    "        with open(os.path.join(folder_path, \"config.json\"), \"r\") as f:\n",
    "          config = json.load(f)\n",
    "        with open(os.path.join(folder_path, \"results.json\"), \"r\") as f:\n",
    "          results = json.load(f)\n",
    "        with open(os.path.join(folder_path, \"best_episode.json\"), \"r\") as f:\n",
    "          best_episode = json.load(f)\n",
    "\n",
    "        data.append({\n",
    "            \"Model\": config[\"model\"].upper(),\n",
    "            \"Environment\": config.get(\"environment\", \"N/A\"),\n",
    "            \"Episodes\": config[\"episodes\"],\n",
    "            \"Average Episode Time\": round(results.get(\"average_time\", 0), 2),\n",
    "            \"Reward Strategy\": config.get(\"reward_strategy\", \"default\"),\n",
    "            \"Average Reward\": results.get(\"average_reward\", 0),\n",
    "            \"Reward Variance\": results.get(\"variance_in_rewards\", 0),\n",
    "            \"Best Episode Reward\": best_episode.get(\"reward\", 0),\n",
    "            \"Results Folder\": folder_path\n",
    "        })\n",
    "      except (FileNotFoundError, KeyError) as e:\n",
    "        pass\n",
    "  return data\n",
    "\n",
    "\n",
    "def display_results_table(data):\n",
    "  \"\"\"\n",
    "  Display the results data as a table sorted by Best Episode Reward.\n",
    "  \"\"\"\n",
    "  # Convert data to a DataFrame and sort it by Best Episode Reward\n",
    "  df = pd.DataFrame(data)\n",
    "  df = df.sort_values(by=\"Best Episode Reward\", ascending=False)\n",
    "\n",
    "  # Display the table in Jupyter Notebook\n",
    "  display(HTML(df.to_html(index=False, escape=False, border=1)))\n",
    "\n",
    "\n",
    "# Load and display results\n",
    "results_data = load_results(\"results\")\n",
    "display_results_table(results_data)"
   ]
  }
 ],
 "metadata": {
  "kernelspec": {
   "display_name": ".venv",
   "language": "python",
   "name": "python3"
  },
  "language_info": {
   "codemirror_mode": {
    "name": "ipython",
    "version": 3
   },
   "file_extension": ".py",
   "mimetype": "text/x-python",
   "name": "python",
   "nbconvert_exporter": "python",
   "pygments_lexer": "ipython3",
   "version": "3.10.12"
  }
 },
 "nbformat": 4,
 "nbformat_minor": 2
}
